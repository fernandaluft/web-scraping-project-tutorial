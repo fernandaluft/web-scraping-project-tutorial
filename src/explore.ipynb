{
    "cells": [
        {
            "cell_type": "markdown",
            "metadata": {},
            "source": [
                "# Explore here\n",
                "\n",
                "It's recommended to use this notebook for exploration purposes."
            ]
        },
        {
            "cell_type": "code",
            "execution_count": 6,
            "metadata": {},
            "outputs": [
                {
                    "name": "stdout",
                    "output_type": "stream",
                    "text": [
                        "Requirement already satisfied: pandas in /workspaces/web-scraping-project-tutorial/.venv/lib/python3.9/site-packages (1.4.2)\n",
                        "Requirement already satisfied: requests in /workspaces/web-scraping-project-tutorial/.venv/lib/python3.9/site-packages (2.27.1)\n",
                        "Requirement already satisfied: python-dateutil>=2.8.1 in /workspaces/web-scraping-project-tutorial/.venv/lib/python3.9/site-packages (from pandas) (2.8.2)\n",
                        "Requirement already satisfied: pytz>=2020.1 in /workspaces/web-scraping-project-tutorial/.venv/lib/python3.9/site-packages (from pandas) (2023.3.post1)\n",
                        "Requirement already satisfied: numpy>=1.18.5 in /workspaces/web-scraping-project-tutorial/.venv/lib/python3.9/site-packages (from pandas) (1.26.1)\n",
                        "Requirement already satisfied: urllib3<1.27,>=1.21.1 in /workspaces/web-scraping-project-tutorial/.venv/lib/python3.9/site-packages (from requests) (1.26.18)\n",
                        "Requirement already satisfied: certifi>=2017.4.17 in /workspaces/web-scraping-project-tutorial/.venv/lib/python3.9/site-packages (from requests) (2023.7.22)\n",
                        "Requirement already satisfied: charset-normalizer~=2.0.0 in /workspaces/web-scraping-project-tutorial/.venv/lib/python3.9/site-packages (from requests) (2.0.12)\n",
                        "Requirement already satisfied: idna<4,>=2.5 in /workspaces/web-scraping-project-tutorial/.venv/lib/python3.9/site-packages (from requests) (3.4)\n",
                        "Requirement already satisfied: six>=1.5 in /workspaces/web-scraping-project-tutorial/.venv/lib/python3.9/site-packages (from python-dateutil>=2.8.1->pandas) (1.16.0)\n"
                    ]
                }
            ],
            "source": [
                "!pip install pandas requests"
            ]
        },
        {
            "cell_type": "code",
            "execution_count": 1,
            "metadata": {},
            "outputs": [],
            "source": [
                "import requests\n",
                "import time\n",
                "from bs4 import BeautifulSoup\n",
                "\n",
                "url = \"https://www.macrotrends.net/stocks/charts/TSLA/tesla/revenue\"\n",
                "\n",
                "headers = {\n",
                "    'User-Agent': 'Mozilla/5.0 (Windows NT 10.0; Win64; x64) AppleWebKit/537.36 (KHTML, like Gecko) Chrome/58.0.3029.110 Safari/537.36'\n",
                "}\n",
                "response = requests.get(url, headers=headers).text\n",
                "\n",
                "soup = BeautifulSoup(response, 'html')\n"
            ]
        },
        {
            "cell_type": "code",
            "execution_count": 3,
            "metadata": {},
            "outputs": [],
            "source": [
                "tables = soup.find_all('table', class_=\"historical_data_table\")"
            ]
        },
        {
            "cell_type": "code",
            "execution_count": 4,
            "metadata": {},
            "outputs": [],
            "source": [
                "for i, table in enumerate(tables):\n",
                "    if ('Tesla Quarterly Revenue' in str(table)):\n",
                "        df_index = i"
            ]
        },
        {
            "cell_type": "code",
            "execution_count": 5,
            "metadata": {},
            "outputs": [],
            "source": [
                "import pandas as pd"
            ]
        },
        {
            "cell_type": "code",
            "execution_count": 6,
            "metadata": {},
            "outputs": [],
            "source": [
                "tesla_df = pd.DataFrame(columns=['date', 'revenue'])\n",
                "for row in tables[df_index].tbody.find_all('tr'):\n",
                "    col = row.find_all('td')\n",
                "    if (col != []):\n",
                "        date = col[0].text\n",
                "        revenue = col[1].text.replace(\"$\", \"\").replace(\",\", \"\")\n",
                "        tesla_df = pd.concat([tesla_df, pd.DataFrame({'date': date, 'revenue': revenue}, index=[0])], ignore_index=True)"
            ]
        },
        {
            "cell_type": "code",
            "execution_count": 7,
            "metadata": {},
            "outputs": [
                {
                    "data": {
                        "text/html": [
                            "<div>\n",
                            "<style scoped>\n",
                            "    .dataframe tbody tr th:only-of-type {\n",
                            "        vertical-align: middle;\n",
                            "    }\n",
                            "\n",
                            "    .dataframe tbody tr th {\n",
                            "        vertical-align: top;\n",
                            "    }\n",
                            "\n",
                            "    .dataframe thead th {\n",
                            "        text-align: right;\n",
                            "    }\n",
                            "</style>\n",
                            "<table border=\"1\" class=\"dataframe\">\n",
                            "  <thead>\n",
                            "    <tr style=\"text-align: right;\">\n",
                            "      <th></th>\n",
                            "      <th>date</th>\n",
                            "      <th>revenue</th>\n",
                            "    </tr>\n",
                            "  </thead>\n",
                            "  <tbody>\n",
                            "    <tr>\n",
                            "      <th>0</th>\n",
                            "      <td>2023-06-30</td>\n",
                            "      <td>24927</td>\n",
                            "    </tr>\n",
                            "    <tr>\n",
                            "      <th>1</th>\n",
                            "      <td>2023-03-31</td>\n",
                            "      <td>23329</td>\n",
                            "    </tr>\n",
                            "    <tr>\n",
                            "      <th>2</th>\n",
                            "      <td>2022-12-31</td>\n",
                            "      <td>24318</td>\n",
                            "    </tr>\n",
                            "    <tr>\n",
                            "      <th>3</th>\n",
                            "      <td>2022-09-30</td>\n",
                            "      <td>21454</td>\n",
                            "    </tr>\n",
                            "    <tr>\n",
                            "      <th>4</th>\n",
                            "      <td>2022-06-30</td>\n",
                            "      <td>16934</td>\n",
                            "    </tr>\n",
                            "  </tbody>\n",
                            "</table>\n",
                            "</div>"
                        ],
                        "text/plain": [
                            "         date revenue\n",
                            "0  2023-06-30   24927\n",
                            "1  2023-03-31   23329\n",
                            "2  2022-12-31   24318\n",
                            "3  2022-09-30   21454\n",
                            "4  2022-06-30   16934"
                        ]
                    },
                    "execution_count": 7,
                    "metadata": {},
                    "output_type": "execute_result"
                }
            ],
            "source": [
                "tesla_df.head()"
            ]
        },
        {
            "cell_type": "code",
            "execution_count": 8,
            "metadata": {},
            "outputs": [],
            "source": [
                "tesla_df=tesla_df[tesla_df['revenue'] != \"\"]"
            ]
        },
        {
            "cell_type": "code",
            "execution_count": 14,
            "metadata": {},
            "outputs": [],
            "source": [
                "import sqlite3"
            ]
        },
        {
            "cell_type": "code",
            "execution_count": 15,
            "metadata": {},
            "outputs": [],
            "source": [
                "#create connection\n",
                "connection = sqlite3.connect(\"tesla.db\")\n"
            ]
        },
        {
            "cell_type": "code",
            "execution_count": 16,
            "metadata": {},
            "outputs": [
                {
                    "ename": "OperationalError",
                    "evalue": "table revenue already exists",
                    "output_type": "error",
                    "traceback": [
                        "\u001b[0;31m---------------------------------------------------------------------------\u001b[0m",
                        "\u001b[0;31mOperationalError\u001b[0m                          Traceback (most recent call last)",
                        "\u001b[1;32m/workspaces/web-scraping-project-tutorial/src/explore.ipynb Cell 12\u001b[0m line \u001b[0;36m2\n\u001b[1;32m      <a href='vscode-notebook-cell://codespaces%2Bverbose-trout-45gjwjp9rq9fq664/workspaces/web-scraping-project-tutorial/src/explore.ipynb#X14sdnNjb2RlLXJlbW90ZQ%3D%3D?line=0'>1</a>\u001b[0m \u001b[39m#create table\u001b[39;00m\n\u001b[0;32m----> <a href='vscode-notebook-cell://codespaces%2Bverbose-trout-45gjwjp9rq9fq664/workspaces/web-scraping-project-tutorial/src/explore.ipynb#X14sdnNjb2RlLXJlbW90ZQ%3D%3D?line=1'>2</a>\u001b[0m connection\u001b[39m.\u001b[39;49mexecute(\u001b[39m'''\u001b[39;49m\u001b[39mCREATE TABLE revenue\u001b[39;49m\n\u001b[1;32m      <a href='vscode-notebook-cell://codespaces%2Bverbose-trout-45gjwjp9rq9fq664/workspaces/web-scraping-project-tutorial/src/explore.ipynb#X14sdnNjb2RlLXJlbW90ZQ%3D%3D?line=2'>3</a>\u001b[0m \u001b[39m                   (date NUMERIC,\u001b[39;49m\n\u001b[1;32m      <a href='vscode-notebook-cell://codespaces%2Bverbose-trout-45gjwjp9rq9fq664/workspaces/web-scraping-project-tutorial/src/explore.ipynb#X14sdnNjb2RlLXJlbW90ZQ%3D%3D?line=3'>4</a>\u001b[0m \u001b[39m                   revenue NUMERIC)\u001b[39;49m\u001b[39m'''\u001b[39;49m)\n",
                        "\u001b[0;31mOperationalError\u001b[0m: table revenue already exists"
                    ]
                }
            ],
            "source": [
                "#create table\n",
                "connection.execute('''CREATE TABLE revenue\n",
                "                   (date NUMERIC,\n",
                "                   revenue NUMERIC)''')"
            ]
        },
        {
            "cell_type": "code",
            "execution_count": null,
            "metadata": {},
            "outputs": [],
            "source": [
                "#populate table\n",
                "tesla_df.to_sql('revenue', connection, if_exists='replace', index=False)\n",
                "connection.commit()"
            ]
        },
        {
            "cell_type": "code",
            "execution_count": null,
            "metadata": {},
            "outputs": [
                {
                    "name": "stdout",
                    "output_type": "stream",
                    "text": [
                        "('2023-06-30', '24927')\n",
                        "('2023-03-31', '23329')\n",
                        "('2022-12-31', '24318')\n",
                        "('2022-09-30', '21454')\n",
                        "('2022-06-30', '16934')\n",
                        "('2022-03-31', '18756')\n",
                        "('2021-12-31', '17719')\n",
                        "('2021-09-30', '13757')\n",
                        "('2021-06-30', '11958')\n",
                        "('2021-03-31', '10389')\n",
                        "('2020-12-31', '10744')\n",
                        "('2020-09-30', '8771')\n",
                        "('2020-06-30', '6036')\n",
                        "('2020-03-31', '5985')\n",
                        "('2019-12-31', '7384')\n",
                        "('2019-09-30', '6303')\n",
                        "('2019-06-30', '6350')\n",
                        "('2019-03-31', '4541')\n",
                        "('2018-12-31', '7226')\n",
                        "('2018-09-30', '6824')\n",
                        "('2018-06-30', '4002')\n",
                        "('2018-03-31', '3409')\n",
                        "('2017-12-31', '3288')\n",
                        "('2017-09-30', '2985')\n",
                        "('2017-06-30', '2790')\n",
                        "('2017-03-31', '2696')\n",
                        "('2016-12-31', '2285')\n",
                        "('2016-09-30', '2298')\n",
                        "('2016-06-30', '1270')\n",
                        "('2016-03-31', '1147')\n",
                        "('2015-12-31', '1214')\n",
                        "('2015-09-30', '937')\n",
                        "('2015-06-30', '955')\n",
                        "('2015-03-31', '940')\n",
                        "('2014-12-31', '957')\n",
                        "('2014-09-30', '852')\n",
                        "('2014-06-30', '769')\n",
                        "('2014-03-31', '621')\n",
                        "('2013-12-31', '615')\n",
                        "('2013-09-30', '431')\n",
                        "('2013-06-30', '405')\n",
                        "('2013-03-31', '562')\n",
                        "('2012-12-31', '306')\n",
                        "('2012-09-30', '50')\n",
                        "('2012-06-30', '27')\n",
                        "('2012-03-31', '30')\n",
                        "('2011-12-31', '39')\n",
                        "('2011-09-30', '58')\n",
                        "('2011-06-30', '58')\n",
                        "('2011-03-31', '49')\n",
                        "('2010-12-31', '36')\n",
                        "('2010-09-30', '31')\n",
                        "('2010-06-30', '28')\n",
                        "('2010-03-31', '21')\n",
                        "('2009-09-30', '46')\n",
                        "('2009-06-30', '27')\n"
                    ]
                }
            ],
            "source": [
                "query = 'SELECT * FROM revenue'\n",
                "for row in connection.execute(query):\n",
                "    print(row)"
            ]
        },
        {
            "cell_type": "markdown",
            "metadata": {},
            "source": [
                "**Plots**"
            ]
        },
        {
            "cell_type": "code",
            "execution_count": 9,
            "metadata": {},
            "outputs": [],
            "source": [
                "import matplotlib.pyplot as plt\n",
                "import seaborn as sns"
            ]
        },
        {
            "cell_type": "code",
            "execution_count": 10,
            "metadata": {},
            "outputs": [],
            "source": [
                "#Casting datatypes to datetime and integer\n",
                "tesla_df['date'] = pd.to_datetime(tesla_df['date'], format='%Y-%m-%d')\n",
                "tesla_df['revenue'] = pd.to_numeric(tesla_df['revenue'], downcast='integer')"
            ]
        },
        {
            "cell_type": "markdown",
            "metadata": {},
            "source": [
                "*Lineplot*"
            ]
        },
        {
            "cell_type": "code",
            "execution_count": 35,
            "metadata": {},
            "outputs": [
                {
                    "data": {
                        "image/png": "[encoded data removed]",
                        "text/plain": [
                            "<Figure size 640x480 with 1 Axes>"
                        ]
                    },
                    "metadata": {},
                    "output_type": "display_data"
                }
            ],
            "source": [
                "#plt.figure(figsize = (8, 4))\n",
                "#plt.plot(tesla_df.date, tesla_df.revenue, color='purple')\n",
                "lineplot = sns.lineplot(x='date', y='revenue', data=tesla_df, color='purple')\n",
                "plt.title(\"Tesla's Revenue\")\n",
                "plt.xlabel('Date')\n",
                "plt.ylabel('Revenue')\n",
                "plt.tight_layout()\n",
                "plt.show();"
            ]
        },
        {
            "cell_type": "markdown",
            "metadata": {},
            "source": [
                "*Barplot*"
            ]
        },
        {
            "cell_type": "code",
            "execution_count": 44,
            "metadata": {},
            "outputs": [],
            "source": [
                "annual_revenue = tesla_df.groupby(tesla_df['date'].dt.year)['revenue'].sum()"
            ]
        },
        {
            "cell_type": "code",
            "execution_count": null,
            "metadata": {},
            "outputs": [
                {
                    "data": {
                        "image/png": "[encoded data removed]",
                        "text/plain": [
                            "<Figure size 640x480 with 1 Axes>"
                        ]
                    },
                    "metadata": {},
                    "output_type": "display_data"
                }
            ],
            "source": [
                "annual_revenue.plot(kind='bar', colormap='cividis')\n",
                "plt.title(\"Tesla's Revenue per Year\")\n",
                "plt.xlabel('Date')\n",
                "plt.ylabel('Revenue')\n",
                "plt.xticks(rotation=0, fontsize='small')\n",
                "plt.yticks(fontsize='small')\n",
                "plt.tight_layout()\n",
                "plt.show();"
            ]
        },
        {
            "cell_type": "code",
            "execution_count": 12,
            "metadata": {},
            "outputs": [],
            "source": [
                "df_stacked = tesla_df.copy()"
            ]
        },
        {
            "cell_type": "code",
            "execution_count": 13,
            "metadata": {},
            "outputs": [],
            "source": [
                "df_stacked['year'] = df_stacked['date'].dt.year\n",
                "df_stacked['month'] = df_stacked['date'].dt.month"
            ]
        },
        {
            "cell_type": "code",
            "execution_count": 26,
            "metadata": {},
            "outputs": [],
            "source": [
                "df_stacked.head()\n",
                "df_stacked['month'].replace(6, 'Q2', inplace=True)\n",
                "df_stacked['month'].replace(3, 'Q1', inplace=True)\n",
                "df_stacked['month'].replace(9, 'Q3', inplace=True)\n",
                "df_stacked['month'].replace(12, 'Q4', inplace=True)"
            ]
        },
        {
            "cell_type": "code",
            "execution_count": 27,
            "metadata": {},
            "outputs": [],
            "source": [
                "stacked = df_stacked.groupby(['year', 'month'])['revenue'].sum().unstack()"
            ]
        },
        {
            "cell_type": "code",
            "execution_count": 28,
            "metadata": {},
            "outputs": [
                {
                    "data": {
                        "text/html": [
                            "<div>\n",
                            "<style scoped>\n",
                            "    .dataframe tbody tr th:only-of-type {\n",
                            "        vertical-align: middle;\n",
                            "    }\n",
                            "\n",
                            "    .dataframe tbody tr th {\n",
                            "        vertical-align: top;\n",
                            "    }\n",
                            "\n",
                            "    .dataframe thead th {\n",
                            "        text-align: right;\n",
                            "    }\n",
                            "</style>\n",
                            "<table border=\"1\" class=\"dataframe\">\n",
                            "  <thead>\n",
                            "    <tr style=\"text-align: right;\">\n",
                            "      <th>month</th>\n",
                            "      <th>Q1</th>\n",
                            "      <th>Q2</th>\n",
                            "      <th>Q3</th>\n",
                            "      <th>Q4</th>\n",
                            "    </tr>\n",
                            "    <tr>\n",
                            "      <th>year</th>\n",
                            "      <th></th>\n",
                            "      <th></th>\n",
                            "      <th></th>\n",
                            "      <th></th>\n",
                            "    </tr>\n",
                            "  </thead>\n",
                            "  <tbody>\n",
                            "    <tr>\n",
                            "      <th>2009</th>\n",
                            "      <td>NaN</td>\n",
                            "      <td>27.0</td>\n",
                            "      <td>46.0</td>\n",
                            "      <td>NaN</td>\n",
                            "    </tr>\n",
                            "    <tr>\n",
                            "      <th>2010</th>\n",
                            "      <td>21.0</td>\n",
                            "      <td>28.0</td>\n",
                            "      <td>31.0</td>\n",
                            "      <td>36.0</td>\n",
                            "    </tr>\n",
                            "    <tr>\n",
                            "      <th>2011</th>\n",
                            "      <td>49.0</td>\n",
                            "      <td>58.0</td>\n",
                            "      <td>58.0</td>\n",
                            "      <td>39.0</td>\n",
                            "    </tr>\n",
                            "    <tr>\n",
                            "      <th>2012</th>\n",
                            "      <td>30.0</td>\n",
                            "      <td>27.0</td>\n",
                            "      <td>50.0</td>\n",
                            "      <td>306.0</td>\n",
                            "    </tr>\n",
                            "    <tr>\n",
                            "      <th>2013</th>\n",
                            "      <td>562.0</td>\n",
                            "      <td>405.0</td>\n",
                            "      <td>431.0</td>\n",
                            "      <td>615.0</td>\n",
                            "    </tr>\n",
                            "    <tr>\n",
                            "      <th>2014</th>\n",
                            "      <td>621.0</td>\n",
                            "      <td>769.0</td>\n",
                            "      <td>852.0</td>\n",
                            "      <td>957.0</td>\n",
                            "    </tr>\n",
                            "    <tr>\n",
                            "      <th>2015</th>\n",
                            "      <td>940.0</td>\n",
                            "      <td>955.0</td>\n",
                            "      <td>937.0</td>\n",
                            "      <td>1214.0</td>\n",
                            "    </tr>\n",
                            "    <tr>\n",
                            "      <th>2016</th>\n",
                            "      <td>1147.0</td>\n",
                            "      <td>1270.0</td>\n",
                            "      <td>2298.0</td>\n",
                            "      <td>2285.0</td>\n",
                            "    </tr>\n",
                            "    <tr>\n",
                            "      <th>2017</th>\n",
                            "      <td>2696.0</td>\n",
                            "      <td>2790.0</td>\n",
                            "      <td>2985.0</td>\n",
                            "      <td>3288.0</td>\n",
                            "    </tr>\n",
                            "    <tr>\n",
                            "      <th>2018</th>\n",
                            "      <td>3409.0</td>\n",
                            "      <td>4002.0</td>\n",
                            "      <td>6824.0</td>\n",
                            "      <td>7226.0</td>\n",
                            "    </tr>\n",
                            "    <tr>\n",
                            "      <th>2019</th>\n",
                            "      <td>4541.0</td>\n",
                            "      <td>6350.0</td>\n",
                            "      <td>6303.0</td>\n",
                            "      <td>7384.0</td>\n",
                            "    </tr>\n",
                            "    <tr>\n",
                            "      <th>2020</th>\n",
                            "      <td>5985.0</td>\n",
                            "      <td>6036.0</td>\n",
                            "      <td>8771.0</td>\n",
                            "      <td>10744.0</td>\n",
                            "    </tr>\n",
                            "    <tr>\n",
                            "      <th>2021</th>\n",
                            "      <td>10389.0</td>\n",
                            "      <td>11958.0</td>\n",
                            "      <td>13757.0</td>\n",
                            "      <td>17719.0</td>\n",
                            "    </tr>\n",
                            "    <tr>\n",
                            "      <th>2022</th>\n",
                            "      <td>18756.0</td>\n",
                            "      <td>16934.0</td>\n",
                            "      <td>21454.0</td>\n",
                            "      <td>24318.0</td>\n",
                            "    </tr>\n",
                            "    <tr>\n",
                            "      <th>2023</th>\n",
                            "      <td>23329.0</td>\n",
                            "      <td>24927.0</td>\n",
                            "      <td>NaN</td>\n",
                            "      <td>NaN</td>\n",
                            "    </tr>\n",
                            "  </tbody>\n",
                            "</table>\n",
                            "</div>"
                        ],
                        "text/plain": [
                            "month       Q1       Q2       Q3       Q4\n",
                            "year                                     \n",
                            "2009       NaN     27.0     46.0      NaN\n",
                            "2010      21.0     28.0     31.0     36.0\n",
                            "2011      49.0     58.0     58.0     39.0\n",
                            "2012      30.0     27.0     50.0    306.0\n",
                            "2013     562.0    405.0    431.0    615.0\n",
                            "2014     621.0    769.0    852.0    957.0\n",
                            "2015     940.0    955.0    937.0   1214.0\n",
                            "2016    1147.0   1270.0   2298.0   2285.0\n",
                            "2017    2696.0   2790.0   2985.0   3288.0\n",
                            "2018    3409.0   4002.0   6824.0   7226.0\n",
                            "2019    4541.0   6350.0   6303.0   7384.0\n",
                            "2020    5985.0   6036.0   8771.0  10744.0\n",
                            "2021   10389.0  11958.0  13757.0  17719.0\n",
                            "2022   18756.0  16934.0  21454.0  24318.0\n",
                            "2023   23329.0  24927.0      NaN      NaN"
                        ]
                    },
                    "execution_count": 28,
                    "metadata": {},
                    "output_type": "execute_result"
                }
            ],
            "source": [
                "stacked"
            ]
        },
        {
            "cell_type": "code",
            "execution_count": 30,
            "metadata": {},
            "outputs": [
                {
                    "data": {
                        "image/png": "[encoded data removed]",
                        "text/plain": [
                            "<Figure size 640x480 with 1 Axes>"
                        ]
                    },
                    "metadata": {},
                    "output_type": "display_data"
                }
            ],
            "source": [
                "stacked.plot(kind='bar', stacked=True, colormap='cividis')\n",
                "plt.title(\"Tesla's Revenue per Quarter Stacked per Year\")\n",
                "plt.xlabel('Year')\n",
                "plt.ylabel('Revenue')\n",
                "plt.legend(title='Quarter', bbox_to_anchor=(1, 1))\n",
                "plt.xticks(rotation=0, fontsize='small')\n",
                "plt.yticks(fontsize='small')\n",
                "plt.tight_layout()\n",
                "plt.show()"
            ]
        },
        {
            "cell_type": "code",
            "execution_count": null,
            "metadata": {},
            "outputs": [],
            "source": []
        }
    ],
    "metadata": {
        "kernelspec": {
            "display_name": "Python 3.8.13 64-bit ('3.8.13')",
            "language": "python",
            "name": "python3"
        },
        "language_info": {
            "codemirror_mode": {
                "name": "ipython",
                "version": 3
            },
            "file_extension": ".py",
            "mimetype": "text/x-python",
            "name": "python",
            "nbconvert_exporter": "python",
            "pygments_lexer": "ipython3",
            "version": "3.9.2"
        },
        "orig_nbformat": 4,
        "vscode": {
            "interpreter": {
                "hash": "110cc1dee26208153f2972f08a2ad52b6a56238dc66d48e87fb757ef2996db56"
            }
        }
    },
    "nbformat": 4,
    "nbformat_minor": 2
}
